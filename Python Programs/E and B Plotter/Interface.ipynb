{
 "cells": [
  {
   "cell_type": "code",
   "execution_count": 3,
   "metadata": {},
   "outputs": [
    {
     "name": "stderr",
     "output_type": "stream",
     "text": [
      "c:\\Users\\thepo\\Documents\\Fingers-Recognizing-Machine\\Helpers.py:12: FutureWarning: You are using `torch.load` with `weights_only=False` (the current default value), which uses the default pickle module implicitly. It is possible to construct malicious pickle data which will execute arbitrary code during unpickling (See https://github.com/pytorch/pytorch/blob/main/SECURITY.md#untrusted-models for more details). In a future release, the default value for `weights_only` will be flipped to `True`. This limits the functions that could be executed during unpickling. Arbitrary objects will no longer be allowed to be loaded via this mode unless they are explicitly allowlisted by the user via `torch.serialization.add_safe_globals`. We recommend you start setting `weights_only=True` for any use case where you don't have full control of the loaded file. Please open an issue on GitHub for any issues related to this experimental feature.\n",
      "  model.load_state_dict(torch.load(\"MODELP.pt\"))\n"
     ]
    }
   ],
   "source": [
    "import cv2\n",
    "import numpy as np\n",
    "# from ipynb.fs.defs.CroppingModel import show_points, show_box, show_mask\n",
    "import Helpers as helpers\n",
    "import matplotlib.pyplot as plt\n",
    "from MainModel import LightningNN"
   ]
  },
  {
   "cell_type": "code",
   "execution_count": 5,
   "metadata": {},
   "outputs": [
    {
     "name": "stdout",
     "output_type": "stream",
     "text": [
      "Reset!\n",
      "Reset!\n"
     ]
    }
   ],
   "source": [
    "cap = cv2.VideoCapture(0)\n",
    "\n",
    "if not cap.isOpened():\n",
    "    print('Cannot open camera')\n",
    "    exit()\n",
    "\n",
    "box_coords = []\n",
    "i = 0\n",
    "\n",
    "def onMouse(event, x, y, flags, param):\n",
    "    if event == cv2.EVENT_LBUTTONDOWN:\n",
    "        if len(box_coords) != 2:\n",
    "            box_coords.append((x, y))\n",
    "\n",
    "    if event == cv2.EVENT_MBUTTONDOWN:\n",
    "        box_coords.clear()\n",
    "        print(\"Reset!\")\n",
    "\n",
    "    if event == cv2.EVENT_RBUTTONDOWN:\n",
    "        cropped_frame = frame[box_coords[0][1]:box_coords[1][1],\n",
    "                                box_coords[0][0]:box_coords[1][0]]\n",
    "        cv2.imwrite(\"test.png\", cropped_frame)\n",
    "\n",
    "while True:\n",
    "    ret, frame = cap.read()\n",
    "    key = cv2.waitKey(1)\n",
    "\n",
    "    if not ret:\n",
    "        print(\"Can't receive frame (stream end?). Exiting...\")\n",
    "        break\n",
    "\n",
    "    cv2.rectangle(frame, [0, 0], [300, 50], color=(0, 0, 0), thickness=-1)\n",
    "\n",
    "    cv2.namedWindow('frame')\n",
    "    cv2.imshow('frame', frame)\n",
    "    cv2.setMouseCallback('frame', onMouse)\n",
    "\n",
    "    if len(box_coords) == 2:\n",
    "        cropped_frame = frame[box_coords[0][1]:box_coords[1][1],\n",
    "                                box_coords[0][0]:box_coords[1][0]]\n",
    "        pred = helpers.RawPredict(cropped_frame)\n",
    "        cv2.rectangle(frame, box_coords[0], box_coords[1], (255, 255, 255), 2)\n",
    "        string = f'Prediction: {pred}'\n",
    "        frame = cv2.putText(frame, string, [10, 35], fontFace=cv2.FONT_HERSHEY_COMPLEX, fontScale=1, color=(255, 255, 255))\n",
    "        cv2.imshow('frame', frame)\n",
    "    \n",
    "    if key==ord('q'):\n",
    "        break\n",
    "\n",
    "cap.release()\n",
    "cv2.destroyAllWindows()"
   ]
  }
 ],
 "metadata": {
  "kernelspec": {
   "display_name": ".venv",
   "language": "python",
   "name": "python3"
  },
  "language_info": {
   "codemirror_mode": {
    "name": "ipython",
    "version": 3
   },
   "file_extension": ".py",
   "mimetype": "text/x-python",
   "name": "python",
   "nbconvert_exporter": "python",
   "pygments_lexer": "ipython3",
   "version": "3.8.10"
  }
 },
 "nbformat": 4,
 "nbformat_minor": 2
}
